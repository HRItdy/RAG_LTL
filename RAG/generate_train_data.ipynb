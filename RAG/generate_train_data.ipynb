{
 "cells": [
  {
   "cell_type": "markdown",
   "id": "7d16ba97",
   "metadata": {},
   "source": [
    "# Generate error message retrieve data\n",
    "## Load LTL tasks from txt file"
   ]
  },
  {
   "cell_type": "code",
   "execution_count": 3,
   "id": "d8974754",
   "metadata": {
    "scrolled": true
   },
   "outputs": [
    {
     "name": "stdout",
     "output_type": "stream",
     "text": [
      "U(O(N(f), E(U(a, b))), N(f))\n",
      "\n",
      "956\n"
     ]
    }
   ],
   "source": [
    "## These tasks are used to train the embedding model and should be stored in '../GA/tasks.txt'.\n",
    "file_path = \"../GA/tasks.txt\"\n",
    "with open(file_path) as f:\n",
    "    tasks = f.readlines()\n",
    "print(tasks[0])\n",
    "print(len(tasks))"
   ]
  },
  {
   "cell_type": "code",
   "execution_count": null,
   "id": "28bae149",
   "metadata": {},
   "outputs": [],
   "source": [
    "## Convert the prefix format of these tasks into the original format\n",
    "def format_convert(task):\n",
    "    "
   ]
  },
  {
   "cell_type": "markdown",
   "id": "7aaa9194",
   "metadata": {},
   "source": [
    "## Import OpenAI "
   ]
  },
  {
   "cell_type": "code",
   "execution_count": null,
   "id": "0fa84548",
   "metadata": {},
   "outputs": [],
   "source": [
    "import json, openai\n",
    "# You need to set your OPENAI API key here\n",
    "# https://beta.openai.com/account/api-keys\n",
    "openai.api_key = \"TO_BE_SET\""
   ]
  },
  {
   "cell_type": "code",
   "execution_count": null,
   "id": "6edac9e5",
   "metadata": {},
   "outputs": [],
   "source": [
    "PROMPT = \"\"\"Given a linear temporal logic task, specify 10 similar tasks and their expected behaviors, \n",
    "\n",
    "Task: \n",
    "F(a U (b A Xc))\n",
    "\n",
    "Outputs:\n",
    "\n",
    "1.\n",
    "\n",
    "Possible Mistake: Misplaced parentheses, which result in a different meaning. Revised Task: F((a U b) & Xc)\n",
    "\n",
    "Possible Mistake: Using until (U) for b and Xc without specifying the order. Revised Task: F((a U b) & (b U Xc))\n",
    "\n",
    "Possible Mistake: Using until (U) for a and b together, which doesn't specify the requirement of a before b. Revised Task: F(a U b) & Xc\n",
    "\n",
    "Possible Mistake: Incorrectly using eventually (F) before a until (U) b, which may not capture the desired behavior. Revised Task: F(a U (b & Xc))\n",
    "\n",
    "Possible Mistake: Using next (X) for b and Xc without specifying their relationship. Revised Task: F(a U (b & Xc))\n",
    "\n",
    "Possible Mistake: Not including the temporal operator X for c. Revised Task: F(a U (b & X(Xc)))\n",
    "\n",
    "Possible Mistake: Combining a and b under a single until (U), which may not reflect the intended behavior. Revised Task: F((a & b) U Xc)\n",
    "\n",
    "Possible Mistake: Using the until (U) operator for both a U b and b U Xc without properly separating them. Revised Task: (F(a U b)) & Xc\n",
    "\n",
    "Possible Mistake: Applying until (U) to a U b without considering Xc. Revised Task: F(a U b) & Xc\n",
    "\n",
    "Task:\n",
    "TASK-TO-BE-PLACED\n",
    "\n",
    "Outputs:\n",
    "\n",
    "\"\"\"\n",
    "def rephrase_a_sentence(sentence):\n",
    "    response = openai.Completion.create(\n",
    "        model=\"text-davinci-002\",\n",
    "        prompt=PROMPT.replace(\"TASK-TO-BE-PLACED\", normalize(sentence)),\n",
    "        temperature=0.7,\n",
    "        max_tokens=512,\n",
    "        top_p=1,\n",
    "        best_of=1,\n",
    "        frequency_penalty=0.1,\n",
    "        presence_penalty=0\n",
    "        )\n",
    "    output = response['choices'][0]['text']\n",
    "    try:\n",
    "        paraphrases = parse_sentences_from_response(output)\n",
    "    except:\n",
    "        print(\"Error in parsing response\")\n",
    "        print(output)\n",
    "        return output, \"ERROR\"\n",
    "    return parse_sentences_from_response(output)"
   ]
  }
 ],
 "metadata": {
  "kernelspec": {
   "display_name": "Python 3 (ipykernel)",
   "language": "python",
   "name": "python3"
  },
  "language_info": {
   "codemirror_mode": {
    "name": "ipython",
    "version": 3
   },
   "file_extension": ".py",
   "mimetype": "text/x-python",
   "name": "python",
   "nbconvert_exporter": "python",
   "pygments_lexer": "ipython3",
   "version": "3.7.16"
  }
 },
 "nbformat": 4,
 "nbformat_minor": 5
}
